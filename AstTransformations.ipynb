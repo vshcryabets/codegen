{
 "cells": [
  {
   "cell_type": "markdown",
   "id": "784cd44d-5255-44e1-be5f-1228a11c6abf",
   "metadata": {},
   "source": [
    "Test kernel"
   ]
  },
  {
   "cell_type": "code",
   "execution_count": 16,
   "id": "5e7b1719-385f-4e80-a810-78735d094f5d",
   "metadata": {},
   "outputs": [],
   "source": [
    "@file:Repository(\"https://jitpack.io\")\n",
    "@file:DependsOn(\"com.github.vshcryabets:codegen:18c0114083\")"
   ]
  },
  {
   "cell_type": "code",
   "execution_count": null,
   "id": "6ff5ce0c-0952-4b9b-8ba4-3883f03d5ca9",
   "metadata": {},
   "outputs": [],
   "source": [
    "import ce.defs.DataType\n",
    "import ce.defs.DataValue\n",
    "import generators.obj.abstractSyntaxTree.DataClass\n",
    "import generators.obj.abstractSyntaxTree.DataField\n",
    "import generators.kotlin.PrepareRightValueUseCase\n",
    "\n",
    "val dataClassDescriptor = DataClass(\"c\").apply {\n",
    "    field(\"A\", DataType.int32,  1)\n",
    "}\n",
    "\n",
    "print(dataClassDescriptor)\n"
   ]
  },
  {
   "cell_type": "markdown",
   "id": "f3d7ec60-12d4-453e-be3d-20c6ca747810",
   "metadata": {},
   "source": [
    "# Input tree to AST transformations\n",
    "\n",
    "**PrepareRightValueUseCase** - convert input DataValue node to AST RValue.\n",
    "Sample of transformation, input:\n",
    "```\n",
    "DataField(\n",
    "    value = DataValue() {\n",
    "        NewInstance()\n",
    "    }\n",
    ")\n",
    "```"
   ]
  },
  {
   "cell_type": "code",
   "execution_count": null,
   "id": "0b430479-4395-4b11-846d-f63537ffe4dc",
   "metadata": {},
   "outputs": [],
   "source": [
    "val dataField = DataField(\"varName\").apply {\n",
    "            generators.obj.abstractSyntaxTree.setType(DataType.int32)\n",
    "            generators.obj.abstractSyntaxTree.setValue(\"strValue\")\n",
    "        }\n",
    "print(dataField)"
   ]
  },
  {
   "cell_type": "code",
   "execution_count": null,
   "id": "73167612-b597-4f99-a2bf-0948c082c5e1",
   "metadata": {},
   "outputs": [],
   "source": [
    "val prepareRightValueUseCase = PrepareRightValueUseCase()\n",
    "val fileData = FileDataImpl(\"someFile.kt\")\n",
    "val rValue = prepareRightValueUseCase.toRightValue(dataField, fileData)\n",
    "print(rValue)"
   ]
  },
  {
   "cell_type": "markdown",
   "id": "927d27f642e731f4",
   "metadata": {},
   "source": [
    "NewInstance will be transformed to Constructor node, with type and arguments.\n",
    "\n",
    "```\n",
    "<NewInstance>\n",
    "    <TypeLeaf>some.class</TypeLeaf>\n",
    "    <Input \"a\"><TypeLeaf>string</TypeLeaf><DataValue \"someValue\" /></Input>\n",
    "    <Input \"b\"><TypeLeaf>int32</TypeLeaf><DataValue \"10\" /></Input>\n",
    "</NewInstance>\n",
    "```\n",
    "\n",
    "Transforms to the:\n",
    "\n",
    "```\n",
    "<RValue>\n",
    "    <Constructor>\n",
    "        <Arguments>\n",
    "            <RValue>\n",
    "                <VarName a><=><\"someValue\">\n",
    "            </RValue>\n",
    "            <,>\n",
    "            <RValue>\n",
    "                <VarName b><=><10>\n",
    "            </RValue>\n",
    "        </Arguments>\n",
    "    </Constructor>\n",
    "</RValue>\n",
    "```"
   ]
  }
 ],
 "metadata": {
  "kernelspec": {
   "display_name": "Kotlin",
   "language": "kotlin",
   "name": "kotlin"
  },
  "language_info": {
   "codemirror_mode": "text/x-kotlin",
   "file_extension": ".kt",
   "mimetype": "text/x-kotlin",
   "name": "kotlin",
   "nbconvert_exporter": "",
   "pygments_lexer": "kotlin",
   "version": "1.9.23"
  }
 },
 "nbformat": 4,
 "nbformat_minor": 5
}
