{
 "cells": [
  {
   "metadata": {},
   "cell_type": "markdown",
   "source": [
    "# AST tree nodes\n",
    "\n",
    "**RValue** - something that can be assigned.\n",
    "\n",
    "**AstTypeLeaf** - string representation of variable/argument data type. Sample:\n",
    "```\n",
    "<FieldNode>\n",
    "    <Keyword name=\"static\"/>\n",
    "    <AstTypeLeaf name=\"int\"/>\n",
    "    <VariableName name=\"ModeStateOn\"/>\n",
    "    <Keyword name=\"=\"/>\n",
    "    <DataValue name=\"0\"/>\n",
    "</FieldNode>\n",
    "```\n",
    "\n",
    "**ArgumentNode** - represents variables that are passed to the function.\n",
    "\n",
    "**Constructor** - represents constructor call, with type and arguments. Should contain Arguments child node."
   ],
   "id": "f72be856a0eccf2e"
  },
  {
   "metadata": {},
   "cell_type": "code",
   "outputs": [],
   "execution_count": null,
   "source": "",
   "id": "e6a163c0aeed68e"
  }
 ],
 "metadata": {
  "kernelspec": {
   "display_name": "Kotlin",
   "language": "kotlin",
   "name": "kotlin"
  },
  "language_info": {
   "codemirror_mode": "text/x-kotlin",
   "file_extension": ".kt",
   "mimetype": "text/x-kotlin",
   "name": "kotlin",
   "nbconvert_exporter": "",
   "pygments_lexer": "kotlin",
   "version": "1.9.23"
  }
 },
 "nbformat": 4,
 "nbformat_minor": 5
}
