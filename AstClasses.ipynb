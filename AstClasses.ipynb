{
 "cells": [
  {
   "cell_type": "markdown",
   "id": "90d2708c-0aad-4b6d-aa16-3630ccc4d243",
   "metadata": {},
   "source": [
    "# AST tree nodes\n",
    "\n",
    "**RValue** - something that can be assigned.\n",
    "**AstTypeLeaf** - string representation of variable/argument data type."
   ]
  },
  {
   "cell_type": "code",
   "execution_count": null,
   "id": "ab11df09-20dc-4333-8967-a8210fa7f4ed",
   "metadata": {},
   "outputs": [],
   "source": []
  }
 ],
 "metadata": {
  "kernelspec": {
   "display_name": "Kotlin",
   "language": "kotlin",
   "name": "kotlin"
  },
  "language_info": {
   "codemirror_mode": "text/x-kotlin",
   "file_extension": ".kt",
   "mimetype": "text/x-kotlin",
   "name": "kotlin",
   "nbconvert_exporter": "",
   "pygments_lexer": "kotlin",
   "version": "1.9.23"
  }
 },
 "nbformat": 4,
 "nbformat_minor": 5
}
