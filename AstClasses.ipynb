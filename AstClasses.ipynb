{
 "cells": [
  {
   "cell_type": "markdown",
   "id": "f72be856a0eccf2e",
   "metadata": {},
   "source": [
    "# AST tree nodes\n",
    "\n",
    "**RValue** - something that can be assigned.\n",
    "\n",
    "**AstTypeLeaf** - string representation of variable/argument data type. Sample:\n",
    "```\n",
    "<FieldNode>\n",
    "    <Keyword name=\"static\"/>\n",
    "    <AstTypeLeaf name=\"int\"/>\n",
    "    <VariableName name=\"ModeStateOn\"/>\n",
    "    <Keyword name=\"=\"/>\n",
    "    <DataValue name=\"0\"/>\n",
    "</FieldNode>\n",
    "```\n",
    "\n",
    "**Constructor** - represents constructor call, with type and arguments. Should contain Arguments child node.\n",
    "\n",
    "**InputsList** - root node for the method arguments\n",
    "\n",
    "**Input** - represents variables that are passed to the function."
   ]
  },
  {
   "cell_type": "code",
   "execution_count": null,
   "id": "e6a163c0aeed68e",
   "metadata": {},
   "outputs": [],
   "source": []
  }
 ],
 "metadata": {
  "kernelspec": {
   "display_name": "Kotlin",
   "language": "kotlin",
   "name": "kotlin"
  },
  "language_info": {
   "codemirror_mode": "text/x-kotlin",
   "file_extension": ".kt",
   "mimetype": "text/x-kotlin",
   "name": "kotlin",
   "nbconvert_exporter": "",
   "pygments_lexer": "kotlin",
   "version": "1.9.23"
  }
 },
 "nbformat": 4,
 "nbformat_minor": 5
}
