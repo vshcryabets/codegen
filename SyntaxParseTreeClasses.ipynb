{
 "cells": [
  {
   "cell_type": "markdown",
   "id": "f72be856a0eccf2e",
   "metadata": {},
   "source": [
    "# Syntax Parse tree nodes\n",
    "\n",
    "**ArgumentNode** - represents variables that are passed to the function.\n"
   ]
  },
  {
   "cell_type": "code",
   "execution_count": null,
   "id": "e6a163c0aeed68e",
   "metadata": {},
   "outputs": [],
   "source": []
  }
 ],
 "metadata": {
  "kernelspec": {
   "display_name": "Kotlin",
   "language": "kotlin",
   "name": "kotlin"
  },
  "language_info": {
   "codemirror_mode": "text/x-kotlin",
   "file_extension": ".kt",
   "mimetype": "text/x-kotlin",
   "name": "kotlin",
   "nbconvert_exporter": "",
   "pygments_lexer": "kotlin",
   "version": "1.9.23"
  }
 },
 "nbformat": 4,
 "nbformat_minor": 5
}
