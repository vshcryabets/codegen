{
 "cells": [
  {
   "cell_type": "markdown",
   "id": "784cd44d-5255-44e1-be5f-1228a11c6abf",
   "metadata": {},
   "source": [
    "Test kernel"
   ]
  },
  {
   "cell_type": "code",
   "execution_count": 5,
   "id": "5e7b1719-385f-4e80-a810-78735d094f5d",
   "metadata": {},
   "outputs": [],
   "source": [
    "@file:Repository(\"https://jitpack.io\")\n",
    "@file:DependsOn(\"com.github.vshcryabets:codegen:644bb1b7e7\")"
   ]
  },
  {
   "cell_type": "code",
   "execution_count": 10,
   "id": "6ff5ce0c-0952-4b9b-8ba4-3883f03d5ca9",
   "metadata": {},
   "outputs": [],
   "source": [
    "import ce.defs.DataType\n",
    "import ce.defs.DataValue\n",
    "import generators.obj.input.DataClass\n",
    "\n",
    "val dataClassDescriptor = DataClass(\"c\").apply {\n",
    "    field(\"A\", DataType.int32,  1)\n",
    "}"
   ]
  },
  {
   "cell_type": "code",
   "execution_count": 11,
   "id": "12a9e17b-78c5-4169-b831-2e048ff94fa2",
   "metadata": {},
   "outputs": [
    {
     "name": "stdout",
     "output_type": "stream",
     "text": [
      "DataClass(name=c, subs=[A:ce.defs.DataType$int32@2e4b20c=ce.defs.DataValue@48fc10c6], sourceFile=, outputFile=, objectBaseFolder=)"
     ]
    }
   ],
   "source": [
    "print(dataClassDescriptor)"
   ]
  },
  {
   "cell_type": "code",
   "execution_count": null,
   "id": "e2d9ed52-00ec-460e-b1bd-742fb1e17ec0",
   "metadata": {},
   "outputs": [],
   "source": []
  }
 ],
 "metadata": {
  "kernelspec": {
   "display_name": "Kotlin",
   "language": "kotlin",
   "name": "kotlin"
  },
  "language_info": {
   "codemirror_mode": "text/x-kotlin",
   "file_extension": ".kt",
   "mimetype": "text/x-kotlin",
   "name": "kotlin",
   "nbconvert_exporter": "",
   "pygments_lexer": "kotlin",
   "version": "1.9.23"
  }
 },
 "nbformat": 4,
 "nbformat_minor": 5
}
