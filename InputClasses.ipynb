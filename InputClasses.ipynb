{
 "cells": [
  {
   "cell_type": "markdown",
   "id": "784cd44d-5255-44e1-be5f-1228a11c6abf",
   "metadata": {},
   "source": [
    "# Input tree nodes (classes)"
   ]
  },
  {
   "cell_type": "code",
   "execution_count": 2,
   "id": "5e7b1719-385f-4e80-a810-78735d094f5d",
   "metadata": {},
   "outputs": [],
   "source": [
    "@file:Repository(\"https://jitpack.io\")\n",
    "@file:DependsOn(\"com.github.vshcryabets:codegen:644bb1b7e7\")"
   ]
  },
  {
   "cell_type": "code",
   "execution_count": 3,
   "id": "6ff5ce0c-0952-4b9b-8ba4-3883f03d5ca9",
   "metadata": {},
   "outputs": [],
   "source": [
    "import ce.defs.DataType\n",
    "import ce.defs.DataValue\n",
    "import generators.obj.input.DataClass\n",
    "\n",
    "val dataClassDescriptor = DataClass(\"c\").apply {\n",
    "    field(\"A\", DataType.int32,  1)\n",
    "}"
   ]
  },
  {
   "cell_type": "code",
   "execution_count": 4,
   "id": "12a9e17b-78c5-4169-b831-2e048ff94fa2",
   "metadata": {},
   "outputs": [
    {
     "name": "stdout",
     "output_type": "stream",
     "text": [
      "DataClass(name=c, subs=[A:ce.defs.DataType$int32@2b5440c3=ce.defs.DataValue@3ce02a4b], sourceFile=, outputFile=, objectBaseFolder=)"
     ]
    }
   ],
   "source": [
    "print(dataClassDescriptor)"
   ]
  },
  {
   "cell_type": "markdown",
   "id": "0368c2ff-7d32-4b9c-89b8-ec99dbcb19fa",
   "metadata": {},
   "source": [
    "## Fields\n",
    "\n",
    "Fields represents any named variable(?) declaration. Like local variables, class field, arguments, constants, static fields.\n",
    "\n",
    "**Field** - common interface. It has name.\n",
    "Initializer value can be specified in child **DataValue** node.\n",
    "TBD: What about return data, what about tuples in python?\n",
    "\n",
    "**DataField** - \n",
    "\n",
    "**TypeLeaf** - specifies data type of a parent field. Sample:\n",
    "```\n",
    "<DataField name=\"A\" ...>\n",
    "    <TypeLeaf name=\"int32\"/>\n",
    "</DataField>\n",
    "```\n",
    "\n",
    "\n",
    "\n",
    "## Values\n",
    "\n",
    "Something that can be assigned.\n",
    "\n",
    "**DataValue** - common interface for some values, that can be assigned. Can be simple - like string, int, bool or complex like someconstrucotrs, or equations\n",
    "\n",
    "**DataValueImpl** - container for simple and complex values.\n",
    "\n",
    "**IntValue**  - container for the integer values, 8-16-32-64 bits, signed.\n",
    "\n",
    "\n",
    "**InputList** - list of argument nodes."
   ]
  },
  {
   "cell_type": "code",
   "execution_count": null,
   "id": "6f112673-fdf0-4bdb-a53b-8b1457e1175a",
   "metadata": {},
   "outputs": [],
   "source": []
  },
  {
   "cell_type": "code",
   "execution_count": null,
   "id": "f5614911-596e-4bcb-84fb-b522f0ea9223",
   "metadata": {},
   "outputs": [],
   "source": []
  }
 ],
 "metadata": {
  "kernelspec": {
   "display_name": "Kotlin",
   "language": "kotlin",
   "name": "kotlin"
  },
  "language_info": {
   "codemirror_mode": "text/x-kotlin",
   "file_extension": ".kt",
   "mimetype": "text/x-kotlin",
   "name": "kotlin",
   "nbconvert_exporter": "",
   "pygments_lexer": "kotlin",
   "version": "1.9.23"
  }
 },
 "nbformat": 4,
 "nbformat_minor": 5
}
